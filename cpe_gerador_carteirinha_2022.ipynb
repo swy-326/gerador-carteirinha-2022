{
  "nbformat": 4,
  "nbformat_minor": 0,
  "metadata": {
    "colab": {
      "name": "cpe-gerador-carteirinha-2022.ipynb",
      "provenance": [],
      "collapsed_sections": []
    },
    "kernelspec": {
      "name": "python3",
      "display_name": "Python 3"
    },
    "language_info": {
      "name": "python"
    }
  },
  "cells": [
    {
      "cell_type": "code",
      "execution_count": 1,
      "metadata": {
        "colab": {
          "base_uri": "https://localhost:8080/"
        },
        "id": "6Fmogdc_xeN4",
        "outputId": "e7017544-aa3b-47e4-c79e-b67ddeeb1abc"
      },
      "outputs": [
        {
          "output_type": "stream",
          "name": "stdout",
          "text": [
            "Mounted at /content/gdrive\n"
          ]
        }
      ],
      "source": [
        "from google.colab import drive\n",
        "import os\n",
        "\n",
        "from PIL import Image\n",
        "from PIL import ImageDraw\n",
        "from PIL import ImageFont\n",
        "from IPython.display import Image as displayImage\n",
        "import urllib.request as req\n",
        "import pandas as pd\n",
        "\n",
        "drive.mount('/content/gdrive')\n",
        "os.chdir('/content/gdrive/My Drive/USP/CPE/Gerador/')"
      ]
    },
    {
      "cell_type": "code",
      "source": [
        "def add_text(nome, id, turno, new_img):\n",
        "\n",
        "    textFont = ImageFont.truetype('NotoSans-Regular.ttf', 40)\n",
        "    validFont = ImageFont.truetype('NotoSans-Regular.ttf', 25)\n",
        "\n",
        "    new_img.text((315, 740), \"Validade: 12/2022\", font=validFont, fill=(0,0,0))\n",
        "\n",
        "    if (len(nome) > 23):\n",
        "        new_img.text((540, 443), \"ID: \" + str(int(id)), font=textFont ,fill=(255,255,255))\n",
        "        new_img.text((540, 493), \"Turno: \" + turno, font=textFont, fill=(255,255,255))\n",
        "\n",
        "        nomes = nome.split(' ')\n",
        "        count = 0\n",
        "        primeira_linha = []\n",
        "        while count < 25:\n",
        "            primeira_linha.append(nomes[0])\n",
        "            count += len(nomes[0])\n",
        "            nomes.pop(0)\n",
        "\n",
        "        new_img.text((540, 543), \"Nome: \" + ' '.join(nome for nome in primeira_linha), font=textFont, fill=(255,255,255))\n",
        "        new_img.text((540, 593), ' '.join(nome for nome in nomes), font=textFont, fill=(255,255,255))\n",
        "\n",
        "    else:\n",
        "        new_img.text((540, 468), \"ID: \" + str(int(id)), font=textFont ,fill=(255,255,255))\n",
        "        new_img.text((540, 518), \"Turno: \" + turno, font=textFont, fill=(255,255,255))\n",
        "        new_img.text((540, 568), \"Nome: \" + nome, font=textFont, fill=(255,255,255))\n",
        "\n",
        "\n",
        "\n",
        "def add_photo(photo_url, img):\n",
        "\n",
        "    filename = photo_url.rsplit('/', 1)[-1]\n",
        "    req.urlretrieve(photo_url, filename)\n",
        "\n",
        "    photo = Image.open(filename)\n",
        "\n",
        "    photo_resized = photo.resize((452, 603))\n",
        "    img.paste(photo_resized, (72, 136))"
      ],
      "metadata": {
        "id": "eoQrh7fu1_VY"
      },
      "execution_count": null,
      "outputs": []
    },
    {
      "cell_type": "code",
      "source": [
        "df = pd.read_excel('alunos.xlsx', engine='openpyxl')\n",
        "\n",
        "for index, row in df.iterrows():\n",
        "\n",
        "    # load base image\n",
        "    img = Image.open('base.png')\n",
        "\n",
        "    # load student informations from xlsx\n",
        "    nome = row['Aluno']\n",
        "    id = int(row['ID'])\n",
        "    turno = row['Turno']\n",
        "    photo_url = str(row['Foto'])\n",
        "\n",
        "    # add photo to base image\n",
        "    if 'http' in photo_url:\n",
        "        add_photo(photo_url, img)\n",
        "\n",
        "    # draw to base image\n",
        "    new_img = ImageDraw.Draw(img)\n",
        "    add_text(nome, id, turno, new_img)\n",
        "    \n",
        "    # save carteirinha\n",
        "    img.save(str(id) + '.png')"
      ],
      "metadata": {
        "id": "2zNi-bMlyCvh"
      },
      "execution_count": null,
      "outputs": []
    }
  ]
}