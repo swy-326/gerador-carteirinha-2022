{
  "nbformat": 4,
  "nbformat_minor": 0,
  "metadata": {
    "colab": {
      "name": "cpe-gerador-carteirinha-2022.ipynb",
      "provenance": [],
      "collapsed_sections": []
    },
    "kernelspec": {
      "name": "python3",
      "display_name": "Python 3"
    },
    "language_info": {
      "name": "python"
    }
  },
  "cells": [
    {
      "cell_type": "code",
      "execution_count": 1,
      "metadata": {
        "colab": {
          "base_uri": "https://localhost:8080/"
        },
        "id": "6Fmogdc_xeN4",
        "outputId": "e9bbc7a7-21b9-472b-ddff-6443ff4ea7f4"
      },
      "outputs": [
        {
          "output_type": "stream",
          "name": "stdout",
          "text": [
            "Mounted at /content/gdrive\n"
          ]
        }
      ],
      "source": [
        "from google.colab import drive\n",
        "import os\n",
        "\n",
        "from PIL import Image\n",
        "from PIL import ImageDraw\n",
        "from PIL import ImageFont\n",
        "from IPython.display import Image as displayImage\n",
        "import urllib.request as req\n",
        "import pandas as pd\n",
        "import numpy as np\n",
        "import time\n",
        "\n",
        "drive.mount('/content/gdrive')\n",
        "os.chdir('/content/gdrive/My Drive/USP/CPE/2022 Diretoria/Gerador/')"
      ]
    },
    {
      "cell_type": "code",
      "source": [
        "def add_text(nome, id, rg, new_img):\n",
        "\n",
        "    textFont = ImageFont.truetype('NotoSans-Regular.ttf', 40)\n",
        "    validFont = ImageFont.truetype('NotoSans-Regular.ttf', 25)\n",
        "    typeFont = ImageFont.truetype('NotoSans-Regular.ttf', 32)\n",
        "\n",
        "    new_img.text((315, 740), \"Validade: 12/2022\", font=validFont, fill=(0,0,0))\n",
        "    new_img.text((208, 95), \"ESTUDANTE\", font=typeFont, fill=(0,0,0))\n",
        "    #new_img.text((223, 95), \"DOCENTE\", font=typeFont, fill=(0,0,0))\n",
        "\n",
        "    if (len(nome) > 24):\n",
        "\n",
        "        print(str(id) + \" ********\")\n",
        "\n",
        "        nomes = nome.split(' ')\n",
        "        count = 0\n",
        "        primeira_linha = []\n",
        "        while count < 23 and len(nomes) > 0:\n",
        "            partial_nome = nomes[0]\n",
        "            primeira_linha.append(partial_nome)\n",
        "            count += len(nomes[0])\n",
        "            nomes.pop(0)\n",
        "\n",
        "        if nomes:\n",
        "            new_img.text((540, 433), \"ID: \" + str(int(id)), font=textFont ,fill=(255,255,255))\n",
        "            new_img.text((540, 493), \"RG: \" + str(rg), font=textFont, fill=(255,255,255))\n",
        "            new_img.text((540, 543), \"Nome: \" + ' '.join(n for n in primeira_linha), font=textFont, fill=(255,255,255))\n",
        "            new_img.text((540, 593), ' '.join(n for n in nomes), font=textFont, fill=(255,255,255))\n",
        "        else:\n",
        "            new_img.text((540, 468), \"ID: \" + str(int(id)), font=textFont ,fill=(255,255,255))\n",
        "            new_img.text((540, 518), \"RG: \" + str(rg), font=textFont, fill=(255,255,255))\n",
        "            new_img.text((540, 568), \"Nome: \" + ' '.join(n for n in primeira_linha), font=textFont, fill=(255,255,255))\n",
        "\n",
        "    else:\n",
        "        new_img.text((540, 468), \"ID: \" + str(int(id)), font=textFont ,fill=(255,255,255))\n",
        "        new_img.text((540, 518), \"RG: \" + str(rg), font=textFont, fill=(255,255,255))\n",
        "        new_img.text((540, 568), \"Nome: \" + nome, font=textFont, fill=(255,255,255))\n",
        "\n",
        "\n",
        "\n",
        "def add_photo(photo_url, img):\n",
        "\n",
        "    filename = photo_url.rsplit('=', 1)[-1]\n",
        "    req.urlretrieve(photo_url, filename)\n",
        "\n",
        "    !wget --no-check-certificate 'https://docs.google.com/uc?export=download&id='+filename -O filename+'.png'\n",
        "\n",
        "    '''\n",
        "    # para pegar direto do drive\n",
        "    filename = photo_url\n",
        "    '''\n",
        "\n",
        "    photo = Image.open(filename+'.png')\n",
        "\n",
        "    photo_resized = photo.resize((452, 603))\n",
        "    img.paste(photo_resized, (72, 136))"
      ],
      "metadata": {
        "id": "eoQrh7fu1_VY"
      },
      "execution_count": 70,
      "outputs": []
    },
    {
      "cell_type": "code",
      "source": [
        "#df = pd.read_excel('respostas.xlsx', engine='openpyxl')\n",
        "df_not = pd.read_excel('respostas.xlsx', engine='openpyxl', sheet_name='Not')\n",
        "#df_vesp = df.Vesp\n",
        "\n",
        "for index, row in df_not.iterrows():\n",
        "\n",
        "    # load base image\n",
        "    img = Image.open('base3.png')\n",
        "\n",
        "    # load student informations from xlsx\n",
        "    nome = row['Aluno']\n",
        "    id = int(row['ID'])\n",
        "    rg = row['RG']\n",
        "    photo_url = str(row['Foto'])\n",
        "\n",
        "    # add photo to base image\n",
        "    if 'http' in photo_url: # if '.' in photo_url:\n",
        "        add_photo(photo_url, img)\n",
        "\n",
        "    # draw to base image\n",
        "    new_img = ImageDraw.Draw(img)\n",
        "    add_text(nome, id, rg, new_img)\n",
        "    \n",
        "    # save carteirinha\n",
        "    img.save(str(id) + '.png')\n",
        "\n",
        "displayImage('101.png')"
      ],
      "metadata": {
        "id": "2zNi-bMlyCvh",
        "colab": {
          "base_uri": "https://localhost:8080/",
          "height": 510
        },
        "outputId": "978faa5c-06e2-476a-abe1-1cb2c95bb7e4"
      },
      "execution_count": 71,
      "outputs": [
        {
          "output_type": "stream",
          "name": "stdout",
          "text": [
            "--2022-05-15 04:59:07--  https://docs.google.com/uc?export=download&id=+filename\n",
            "Resolving docs.google.com (docs.google.com)... 74.125.204.138, 74.125.204.100, 74.125.204.139, ...\n",
            "Connecting to docs.google.com (docs.google.com)|74.125.204.138|:443... connected.\n",
            "HTTP request sent, awaiting response... 404 Not Found\n",
            "2022-05-15 04:59:08 ERROR 404: Not Found.\n",
            "\n"
          ]
        },
        {
          "output_type": "error",
          "ename": "UnidentifiedImageError",
          "evalue": "ignored",
          "traceback": [
            "\u001b[0;31m---------------------------------------------------------------------------\u001b[0m",
            "\u001b[0;31mUnidentifiedImageError\u001b[0m                    Traceback (most recent call last)",
            "\u001b[0;32m<ipython-input-71-31f8055b29f1>\u001b[0m in \u001b[0;36m<module>\u001b[0;34m()\u001b[0m\n\u001b[1;32m     16\u001b[0m     \u001b[0;31m# add photo to base image\u001b[0m\u001b[0;34m\u001b[0m\u001b[0;34m\u001b[0m\u001b[0;34m\u001b[0m\u001b[0m\n\u001b[1;32m     17\u001b[0m     \u001b[0;32mif\u001b[0m \u001b[0;34m'http'\u001b[0m \u001b[0;32min\u001b[0m \u001b[0mphoto_url\u001b[0m\u001b[0;34m:\u001b[0m \u001b[0;31m# if '.' in photo_url:\u001b[0m\u001b[0;34m\u001b[0m\u001b[0;34m\u001b[0m\u001b[0m\n\u001b[0;32m---> 18\u001b[0;31m         \u001b[0madd_photo\u001b[0m\u001b[0;34m(\u001b[0m\u001b[0mphoto_url\u001b[0m\u001b[0;34m,\u001b[0m \u001b[0mimg\u001b[0m\u001b[0;34m)\u001b[0m\u001b[0;34m\u001b[0m\u001b[0;34m\u001b[0m\u001b[0m\n\u001b[0m\u001b[1;32m     19\u001b[0m \u001b[0;34m\u001b[0m\u001b[0m\n\u001b[1;32m     20\u001b[0m     \u001b[0;31m# draw to base image\u001b[0m\u001b[0;34m\u001b[0m\u001b[0;34m\u001b[0m\u001b[0;34m\u001b[0m\u001b[0m\n",
            "\u001b[0;32m<ipython-input-70-d1579bb0e2bf>\u001b[0m in \u001b[0;36madd_photo\u001b[0;34m(photo_url, img)\u001b[0m\n\u001b[1;32m     51\u001b[0m     '''\n\u001b[1;32m     52\u001b[0m \u001b[0;34m\u001b[0m\u001b[0m\n\u001b[0;32m---> 53\u001b[0;31m     \u001b[0mphoto\u001b[0m \u001b[0;34m=\u001b[0m \u001b[0mImage\u001b[0m\u001b[0;34m.\u001b[0m\u001b[0mopen\u001b[0m\u001b[0;34m(\u001b[0m\u001b[0mfilename\u001b[0m\u001b[0;34m+\u001b[0m\u001b[0;34m'.png'\u001b[0m\u001b[0;34m)\u001b[0m\u001b[0;34m\u001b[0m\u001b[0;34m\u001b[0m\u001b[0m\n\u001b[0m\u001b[1;32m     54\u001b[0m \u001b[0;34m\u001b[0m\u001b[0m\n\u001b[1;32m     55\u001b[0m     \u001b[0mphoto_resized\u001b[0m \u001b[0;34m=\u001b[0m \u001b[0mphoto\u001b[0m\u001b[0;34m.\u001b[0m\u001b[0mresize\u001b[0m\u001b[0;34m(\u001b[0m\u001b[0;34m(\u001b[0m\u001b[0;36m452\u001b[0m\u001b[0;34m,\u001b[0m \u001b[0;36m603\u001b[0m\u001b[0;34m)\u001b[0m\u001b[0;34m)\u001b[0m\u001b[0;34m\u001b[0m\u001b[0;34m\u001b[0m\u001b[0m\n",
            "\u001b[0;32m/usr/local/lib/python3.7/dist-packages/PIL/Image.py\u001b[0m in \u001b[0;36mopen\u001b[0;34m(fp, mode)\u001b[0m\n\u001b[1;32m   2894\u001b[0m         \u001b[0mwarnings\u001b[0m\u001b[0;34m.\u001b[0m\u001b[0mwarn\u001b[0m\u001b[0;34m(\u001b[0m\u001b[0mmessage\u001b[0m\u001b[0;34m)\u001b[0m\u001b[0;34m\u001b[0m\u001b[0;34m\u001b[0m\u001b[0m\n\u001b[1;32m   2895\u001b[0m     raise UnidentifiedImageError(\n\u001b[0;32m-> 2896\u001b[0;31m         \u001b[0;34m\"cannot identify image file %r\"\u001b[0m \u001b[0;34m%\u001b[0m \u001b[0;34m(\u001b[0m\u001b[0mfilename\u001b[0m \u001b[0;32mif\u001b[0m \u001b[0mfilename\u001b[0m \u001b[0;32melse\u001b[0m \u001b[0mfp\u001b[0m\u001b[0;34m)\u001b[0m\u001b[0;34m\u001b[0m\u001b[0;34m\u001b[0m\u001b[0m\n\u001b[0m\u001b[1;32m   2897\u001b[0m     )\n\u001b[1;32m   2898\u001b[0m \u001b[0;34m\u001b[0m\u001b[0m\n",
            "\u001b[0;31mUnidentifiedImageError\u001b[0m: cannot identify image file '1gvWbDh_gjGDRBI4027fvrIG5OJoNJZAm.png'"
          ]
        }
      ]
    },
    {
      "cell_type": "code",
      "source": [
        "!wget --no-check-certificate 'https://docs.google.com/uc?export=download&id=' -O FILENAME.png"
      ],
      "metadata": {
        "id": "XdrJpDeIJbii"
      },
      "execution_count": null,
      "outputs": []
    },
    {
      "cell_type": "code",
      "source": [
        "!ls -l"
      ],
      "metadata": {
        "colab": {
          "base_uri": "https://localhost:8080/"
        },
        "id": "pw_ym_Q_oK0Z",
        "outputId": "79ec42bc-f250-4780-aa39-6b61c65a3861"
      },
      "execution_count": null,
      "outputs": [
        {
          "output_type": "stream",
          "name": "stdout",
          "text": [
            "total 8096\n",
            "-rw------- 1 root root   10356 Apr  4 17:51 alunos.xlsx\n",
            "-rw------- 1 root root  105213 Apr  4 17:29 base2.png\n",
            "-rw------- 1 root root  261695 Mar 15 13:10 base.png\n",
            "-rw------- 1 root root 2268815 Mar 15 16:19 foto.png\n",
            "drwx------ 4 root root    4096 Mar 24 18:08 fotos-alunos\n",
            "-rw------- 1 root root    2010 Mar 15 17:25 gerador.py\n",
            "-rw------- 1 root root  293943 Mar 15 15:16 new.png\n",
            "-rw------- 1 root root  401420 Feb 27  2013 NotoSans-Bold.ttf\n",
            "-rw------- 1 root root  401552 Feb 27  2013 NotoSans-Regular.ttf\n",
            "-rw------- 1 root root 2268815 Mar 15 15:30 photo\n",
            "-rw------- 1 root root 2268815 Mar 15 15:27 photo.png\n"
          ]
        }
      ]
    },
    {
      "cell_type": "code",
      "source": [
        "while(True):\n",
        "    time.sleep(500)"
      ],
      "metadata": {
        "colab": {
          "base_uri": "https://localhost:8080/",
          "height": 193
        },
        "id": "cYrapvG2A3Wt",
        "outputId": "4cc1c51c-42db-4c98-d969-850773270f0b"
      },
      "execution_count": 62,
      "outputs": [
        {
          "output_type": "error",
          "ename": "KeyboardInterrupt",
          "evalue": "ignored",
          "traceback": [
            "\u001b[0;31m---------------------------------------------------------------------------\u001b[0m",
            "\u001b[0;31mKeyboardInterrupt\u001b[0m                         Traceback (most recent call last)",
            "\u001b[0;32m<ipython-input-62-2f5a4fb15dd4>\u001b[0m in \u001b[0;36m<module>\u001b[0;34m()\u001b[0m\n\u001b[1;32m      1\u001b[0m \u001b[0;32mwhile\u001b[0m\u001b[0;34m(\u001b[0m\u001b[0;32mTrue\u001b[0m\u001b[0;34m)\u001b[0m\u001b[0;34m:\u001b[0m\u001b[0;34m\u001b[0m\u001b[0;34m\u001b[0m\u001b[0m\n\u001b[0;32m----> 2\u001b[0;31m     \u001b[0mtime\u001b[0m\u001b[0;34m.\u001b[0m\u001b[0msleep\u001b[0m\u001b[0;34m(\u001b[0m\u001b[0;36m500\u001b[0m\u001b[0;34m)\u001b[0m\u001b[0;34m\u001b[0m\u001b[0;34m\u001b[0m\u001b[0m\n\u001b[0m",
            "\u001b[0;31mKeyboardInterrupt\u001b[0m: "
          ]
        }
      ]
    }
  ]
}